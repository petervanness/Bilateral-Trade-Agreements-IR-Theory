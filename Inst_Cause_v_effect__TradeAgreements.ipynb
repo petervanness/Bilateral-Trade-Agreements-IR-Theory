{
 "cells": [
  {
   "attachments": {},
   "cell_type": "markdown",
   "metadata": {},
   "source": [
    "### International Trade Agreements: Causal Institutions or Effects of Existing [Rapport]?\n",
    "\n",
    "This code was for an analysis in a [paper](https://drive.google.com/file/d/1H9gHjocIFn60sOIbf9tkjN2aNYXr32tO/view?usp=sharing) I wrote for a course on international relations theory (Note: the UN Comtrade database has been updated since I originally ran the analysis, so the numbers are slightly different in the paper from the results below; I opted to leave both as they are for now). While I was looking at explicitly economic data (export & import volumes), the research was focused on IR institutional theory, not economic theory per se (though of course they overlap, and I usually abide happily by the dictum that everything is economics). More concretely, the question at hand was whether international trade agreements alter nations' relations significantly, or are they simply manifestations of relations already in place?\n",
    "\n",
    "I hasten to add that I don't take the findings here as contributing anything to a case against international trade -- I'm a pretty diehard free-trader on both consequentialist and deontological grounds -- but the results might say something interesting about the conditions from which trade agreements arise, i.e. significant international economic connection looks like a prerequisite for agreements rather than the other way around. That's still a loosely held, highly qualified conclusion, and even then, it's not anything the simplest economic theory couldn't offer."
   ]
  },
  {
   "cell_type": "code",
   "execution_count": 1,
   "metadata": {},
   "outputs": [],
   "source": [
    "import country_converter as coco\n",
    "import datetime\n",
    "import json\n",
    "import matplotlib.ticker as mtick\n",
    "import matplotlib.pyplot as plt\n",
    "import numpy as np\n",
    "import os\n",
    "import pandas as pd\n",
    "import requests\n",
    "import shutil\n",
    "import time\n",
    "import urllib\n",
    "import wbdata"
   ]
  },
  {
   "attachments": {},
   "cell_type": "markdown",
   "metadata": {},
   "source": [
    "### A. Processing World Trade Organization Data on Regional Trade Agreements\n",
    "In the first step we pull the list of countries with bilateral trade agreements concerning goods, from 2000 through 2019. Limiting to those countries will save a good deal of time when access the trade volume data from the UN's Comtrade API. To make for easy merging, the country names are standardized using the [country-converter](https://pypi.org/project/country-converter/) package.\n",
    "\n",
    "The data come from the World Trade Organization's [Regional Trade Agreements Database](http://rtais.wto.org/UI/PublicMaintainRTAHome.aspx)."
   ]
  },
  {
   "cell_type": "code",
   "execution_count": null,
   "metadata": {},
   "outputs": [],
   "source": [
    "dirname = os.getcwd()\n",
    "print('Output will be deposited here:', dirname)\n",
    "outpath = os.path.join(dirname,'Output/')\n",
    "\n",
    "if not os.path.exists(os.path.join(outpath)):\n",
    "    os.mkdir(os.path.join(outpath))\n",
    "\n",
    "#************-----Eventually build in process to download RTA data programmatically, -----------------***************\n",
    "#************-----but downloading files behind .aspx links seems more complicated than it's worth-----***************\n",
    "#*********************************************************************************************\n",
    "# Process would look something like this\n",
    "# rta_url = 'http://rtais.wto.org/UI/ExportAllRTAList.aspx'\n",
    "# f = requests.get(rta_url)\n",
    "# # with zipfile.ZipFile(f.content, 'r') as zip_ref:\n",
    "# #     x = zipfile.ZipFile.extract(zip_ref)\n",
    "\n",
    "# rta_df = pd.read_excel(io.BytesIO(x.content), sheet_name='AllRTAs', engine='xlrd')\n",
    "#*********************************************************************************************\n",
    "#*********************************************************************************************\n",
    "\n",
    "rta_df = pd.read_excel(\"AllRTAs.xls\", sheet_name=\"AllRTAs\")\n",
    "\n",
    "rta_df = rta_df.loc[rta_df['Date of Entry into Force (G)'] > datetime.datetime(1999, 12, 31)]\n",
    "rta_df = rta_df.loc[rta_df['Date of Entry into Force (G)'] < datetime.datetime(2020, 1, 1)]\n",
    "rta_df = rta_df.loc[rta_df['RTA Composition'] == 'Bilateral']\n",
    "rta_df = rta_df.loc[rta_df['Coverage'] != 'Services']\n",
    "\n",
    "# get list of countries included in trade agreements data to limit pull from Comtrade\n",
    "tmp = rta_df['Original signatories'].tolist()\n",
    "tmp = [x for x in tmp if pd.isnull(x) == False]\n",
    "\n",
    "rta_participants = []\n",
    "for i in tmp:\n",
    "    rta_participants += [j.strip() for j in i.split(';')]\n",
    "\n",
    "rta_participants = list(set(rta_participants))\n",
    "rta_participants = coco.convert(names=rta_participants, to='name_short')"
   ]
  },
  {
   "attachments": {},
   "cell_type": "markdown",
   "metadata": {},
   "source": [
    "### B. Gathering UN Comtrade Data\n",
    "\n",
    "Next, we take the list of countries for which trade data are available in [Comtrade](https://comtradeplus.un.org/TradeFlow) and standardize country naming conventions in the same way the WTO list was in the cell above, so we have a consistent link across data sources. \n",
    "\n",
    "Country names seem simple enough, but there's a good deal of variation in notation across data providers, e.g. US, USA, United States; Republic of Korea, South Korea, ROK, 'and' vs '&,' periods or no periods in abbreviations, etc. \n",
    "\n",
    "A handful of nations crop up as having no standardized name, but nearly all of these either didn't exist during study period or don't appear in the trade agreements data. One of these nations (Serbia and Montenegro) did overlap a bit (2000-2006) with the analysis window and ostensibly entered two bilateral goods trade agreements in the RTA data. But Comtrade only has data through 2004 for the erstwhile country, and, therefore, we don't have a post-period to work with anyway, so that case doesn't need to handled."
   ]
  },
  {
   "cell_type": "code",
   "execution_count": 3,
   "metadata": {},
   "outputs": [
    {
     "name": "stderr",
     "output_type": "stream",
     "text": [
      "All not found in ISO3\n",
      "Belgium-Luxembourg not found in regex\n",
      "Bonaire not found in regex\n",
      "EU not found in ISO2\n",
      "Fmr Pacific Isds not found in regex\n",
      "Fmr Tanganyika not found in regex\n",
      "Fmr USSR not found in regex\n",
      "Fmr Yugoslavia not found in regex\n",
      "Fmr Zanzibar and Pemba Isd not found in regex\n",
      "Neth. Antilles not found in regex\n",
      "Other Asia, nes not found in regex\n",
      "Ryukyu Isd not found in regex\n",
      "Sabah not found in regex\n",
      "More then one regular expression match for Saint Kitts, Nevis and Anguilla\n",
      "More then one regular expression match for Saint Kitts, Nevis and Anguilla\n",
      "More then one regular expression match for Saint Kitts, Nevis and Anguilla\n",
      "More then one regular expression match for Saint Kitts, Nevis and Anguilla\n",
      "More then one regular expression match for Saint Kitts, Nevis and Anguilla\n",
      "More then one regular expression match for Saint Kitts, Nevis and Anguilla\n",
      "More then one regular expression match for Saint Kitts, Nevis and Anguilla\n",
      "More then one regular expression match for Saint Kitts, Nevis and Anguilla\n",
      "More then one regular expression match for Saint Kitts, Nevis and Anguilla\n",
      "More then one regular expression match for Saint Kitts, Nevis and Anguilla\n",
      "More then one regular expression match for Saint Kitts, Nevis and Anguilla\n",
      "More then one regular expression match for Saint Kitts, Nevis and Anguilla\n",
      "More then one regular expression match for Saint Kitts, Nevis and Anguilla\n",
      "More then one regular expression match for Saint Kitts, Nevis and Anguilla\n",
      "More then one regular expression match for Saint Kitts, Nevis and Anguilla\n",
      "More then one regular expression match for Saint Kitts, Nevis and Anguilla\n",
      "More then one regular expression match for Saint Kitts, Nevis and Anguilla\n",
      "More then one regular expression match for Saint Kitts, Nevis and Anguilla\n",
      "More then one regular expression match for Saint Kitts, Nevis and Anguilla\n",
      "More then one regular expression match for Saint Kitts, Nevis and Anguilla\n",
      "More then one regular expression match for Saint Kitts, Nevis and Anguilla\n",
      "More then one regular expression match for Saint Kitts, Nevis and Anguilla\n",
      "More then one regular expression match for Saint Kitts, Nevis and Anguilla\n",
      "More then one regular expression match for Saint Kitts, Nevis and Anguilla\n",
      "More then one regular expression match for Saint Kitts, Nevis and Anguilla\n",
      "More then one regular expression match for Saint Kitts, Nevis and Anguilla\n",
      "More then one regular expression match for Saint Kitts, Nevis and Anguilla\n",
      "More then one regular expression match for Saint Kitts, Nevis and Anguilla\n",
      "More then one regular expression match for Saint Kitts, Nevis and Anguilla\n",
      "More then one regular expression match for Saint Kitts, Nevis and Anguilla\n",
      "More then one regular expression match for Saint Kitts, Nevis and Anguilla\n",
      "More then one regular expression match for Saint Kitts, Nevis and Anguilla\n",
      "More then one regular expression match for Saint Kitts, Nevis and Anguilla\n",
      "More then one regular expression match for Saint Kitts, Nevis and Anguilla\n",
      "More then one regular expression match for Saint Kitts, Nevis and Anguilla\n",
      "More then one regular expression match for Saint Kitts, Nevis and Anguilla\n",
      "More then one regular expression match for Saint Kitts, Nevis and Anguilla\n",
      "More then one regular expression match for Saint Kitts, Nevis and Anguilla\n",
      "More then one regular expression match for Saint Kitts, Nevis and Anguilla\n",
      "More then one regular expression match for Saint Kitts, Nevis and Anguilla\n",
      "More then one regular expression match for Saint Kitts, Nevis and Anguilla\n",
      "More then one regular expression match for Saint Kitts, Nevis and Anguilla\n",
      "Sarawak not found in regex\n",
      "Serbia and Montenegro not found in regex\n",
      "So. African Customs Union not found in regex\n",
      "USA (before 1981) not found in regex\n",
      "ASEAN not found in regex\n"
     ]
    }
   ],
   "source": [
    "reporting_nations_url = 'https://comtrade.un.org/Data/cache/reporterAreas.json'\n",
    "f = requests.get(reporting_nations_url)\n",
    "un_reporting_nations = json.loads(f.content.decode('utf-8-sig'))\n",
    "un_reporting_nations = un_reporting_nations['results']\n",
    "\n",
    "for i in un_reporting_nations:\n",
    "    i['country'] = coco.convert(i['text'], to='name_short')"
   ]
  },
  {
   "attachments": {},
   "cell_type": "markdown",
   "metadata": {},
   "source": [
    "This stage has a bit of setup to account for hiccups in API calls due to rate limits and such. Namely, a csv to which data will be appended and a text file to track which country-year combos have already been pulled. This way, in case something goes wrong with the API calls, the program won't pull data which have already been saved in the csv."
   ]
  },
  {
   "cell_type": "code",
   "execution_count": 4,
   "metadata": {},
   "outputs": [],
   "source": [
    "trade_data_outfile = 'un_comtrade.csv'\n",
    "trade_data_outpath = os.path.join(outpath,trade_data_outfile)\n",
    "\n",
    "#--- CSV to which data will be appended for every country-year request\n",
    "columns_for_use = ['Year','Trade Flow','Reporter','Reporter Code','Reporter ISO','Partner','Partner Code','Partner ISO','Commodity Code','Trade Value (US$)']\n",
    "\n",
    "if not os.path.exists(trade_data_outpath):\n",
    "    pd.DataFrame(columns = columns_for_use).to_csv(trade_data_outpath, index=False)\n",
    "\n",
    "#--- Text file for tracking which country-years have been downloaded \n",
    "completed_file = 'downloaded.txt'\n",
    "completed_path = os.path.join(outpath,completed_file)\n",
    "\n",
    "if not os.path.exists(completed_path):\n",
    "   with open(completed_path, 'w') as file:\n",
    "       file.write('')"
   ]
  },
  {
   "attachments": {},
   "cell_type": "markdown",
   "metadata": {},
   "source": [
    "Here we are looping through country-year combos to accrue our dataset. It's a bit ugly and logically repetitive, but the Comtrade API has somewhat stringent allowances for the number of reporting countries, partner countries and years specified in a single query. Namely, [only one](https://comtrade.un.org/data/doc/api#:~:text=Parameter%20combination%20limit%3A%20ps%2C%20r%20and%20p%20are%20limited%20to%205%20codes%20each.%20Only%20one%20of%20the%20above%20codes%20may%20use%20the%20special%20ALL%20value%20in%20a%20given%20API%20call.%20Classification%20codes%20(cc)%20are%20limited%20to%2020%20items.%20ALL%20is%20always%20a%20valid%20classification%20code.) of the reporter, partner and year parameters may call _all_ results for that parameter.\n",
    "\n",
    "The API also limits to 100 requests per hour, for non-premium users anyway.\n",
    "\n",
    "With all of that in mind, calls are limited to countries which appear in the trade agreements data, and once data for a given country-year are on hand in the csv, that combo is logged in the text file initiated above. There's probably a more efficient way to log and check whether a combo has already been pulled, but this simple means does the trick. There's also some simple error handling to account for the rate limit: when the limit is reached, the program just hangs out for an hour."
   ]
  },
  {
   "cell_type": "code",
   "execution_count": 5,
   "metadata": {},
   "outputs": [
    {
     "name": "stdout",
     "output_type": "stream",
     "text": [
      "\n",
      "\n",
      "************************* Comtrade Download Complete*************************\n"
     ]
    }
   ],
   "source": [
    "count = 1\n",
    "\n",
    "for i in un_reporting_nations:\n",
    "        if i['country'] in rta_participants:\n",
    "            for year in range(2000,2020):\n",
    "                with open(completed_path, 'r', encoding='ISO-8859-1') as handle:\n",
    "                    completed_list = handle.read().split('\\n')\n",
    "                while f\"{str(i['id'])}-{str(i['text'])}-{year}\" not in completed_list:\n",
    "                    try:\n",
    "                        print(f\"Iteration {count}; executing id: {i['id']}; UN name: {i['text']}; Std. name: {i['country']}; year: {year}\")\n",
    "                        df = pd.read_csv(f\"https://comtrade.un.org/api/get?freq=A&px=HS&ps={year}&r={i['id']}&p=all&rg=all&cc=TOTAL&fmt=csv\")\n",
    "                        df.filter(columns_for_use).to_csv(trade_data_outpath, header=0, mode='a', index=False)\n",
    "                        with open(completed_path, 'a') as file:\n",
    "                            file.write(f\"{str(i['id'])}-{str(i['text'])}-{year}\\n\")\n",
    "                        completed_list.append(f\"{str(i['id'])}-{str(i['text'])}-{year}\")\n",
    "                        count += 1\n",
    "                    except urllib.error.HTTPError:\n",
    "                        print(f'Request rejected at {datetime.datetime.now().strftime(\"%H:%M:%S\")} -- waiting ~1 hour before resuming API calls')\n",
    "                        time.sleep(60.01*60)\n",
    "\n",
    "print('\\n\\n************************* Comtrade Download Complete*************************')"
   ]
  },
  {
   "attachments": {},
   "cell_type": "markdown",
   "metadata": {},
   "source": [
    "### C. Merge WTO agreements data and UN trade data\n",
    "\n",
    "Next we'll merge the WTO data on bilateral trade agreements with the UN Comtrade data on import and export volume. This is where the standardized country names come in especially handy.\n",
    "\n",
    "A mildly eyebrow-raising step here is making a copy of the trade agreements data, swapping signatory 1 & 2, and then stacking that copy with the original. I do this because I want to consider each signatory's trade independently, so stacking after the swap allows each party to be analyzed as a primary party. For example, Chile & Nicaragua signed a trade deal in 2012. In the raw data, Chile is listed first (presumably is just alphabetically sorted), so if we merge on just signatory 1, we wouldn't be catching Nicaragua's moves there. I could just do a second join on signatory 2, but I like this way better because then I don't have to coalesce the columns pulled in from multiple merges."
   ]
  },
  {
   "cell_type": "code",
   "execution_count": 6,
   "metadata": {},
   "outputs": [],
   "source": [
    "rta_df = rta_df.filter(['RTA Name','Date of Entry into Force (G)','Original signatories','Coverage','RTA Composition'])\n",
    "rta_df['Signatory1'] = rta_df['Original signatories'].str.split(';').str[0].str.strip()\n",
    "rta_df['Signatory2'] = rta_df['Original signatories'].str.split(';').str[1].str.strip()\n",
    "rta_df = rta_df.loc[rta_df['Signatory2'].notna()]\n",
    "\n",
    "cc_pd = coco.CountryConverter()\n",
    "for sig in ['Signatory1','Signatory2']:\n",
    "    rta_df[f'{sig}_std'] = cc_pd.pandas_convert(series=rta_df[sig], to='name_short')    \n",
    "\n",
    "rta_df['Agreement Year'] = rta_df['Date of Entry into Force (G)'].dt.strftime('%Y').astype(int)\n",
    "\n",
    "# Make a copy of the trade agreements to catch both directions of the trade agreements when merging with trade data\n",
    "rta2 = rta_df.copy()\n",
    "rta2 = rta2.rename(columns={\n",
    "    'Signatory1_std':'Signatory2_std',\n",
    "    'Signatory2_std':'Signatory1_std',\n",
    "    'Signatory1':'Signatory2',\n",
    "    'Signatory2':'Signatory1'\n",
    "    })\n",
    "\n",
    "rta_df = pd.concat([rta_df, rta2])"
   ]
  },
  {
   "attachments": {},
   "cell_type": "markdown",
   "metadata": {},
   "source": [
    "It's pretty time-intensive to gather the trade data, so making a copy of those files in a backup folder before manipulating the data at all, just in case."
   ]
  },
  {
   "cell_type": "code",
   "execution_count": null,
   "metadata": {},
   "outputs": [],
   "source": [
    "backup_path = os.path.join(dirname,'Pre-manipulation backups')\n",
    "time_label = str(datetime.datetime.now()).replace(':','_')\n",
    "shutil.copytree(src=outpath, dst=os.path.join(backup_path,f'at_{time_label}'))"
   ]
  },
  {
   "attachments": {},
   "cell_type": "markdown",
   "metadata": {},
   "source": [
    "Some pivoting, name-standardizing, and dropping non-country partner observations (and Serbia & Montenegro) from the trade data."
   ]
  },
  {
   "cell_type": "code",
   "execution_count": 8,
   "metadata": {},
   "outputs": [],
   "source": [
    "trade_df = pd.read_csv(trade_data_outpath)\n",
    "trade_df = trade_df.loc[trade_df['Year'].isnull()==False]\n",
    "trade_df = trade_df.pivot_table(index=['Year','Reporter','Reporter Code','Partner','Partner Code','Commodity Code'], columns='Trade Flow', values='Trade Value (US$)').reset_index().drop(['Re-Export','Re-Import'], axis=1)\n",
    "world_trade = trade_df.loc[trade_df['Partner']=='World'].rename(columns={'Export':'World Exports','Import':'World Imports'}).drop(['Partner','Partner Code'], axis=1)\n",
    "trade_df = trade_df.loc[trade_df['Partner']!='World']\n",
    "trade_df = pd.merge(trade_df, world_trade, how='left', on=['Reporter','Reporter Code','Year','Commodity Code'])\n",
    "\n",
    "drop_list = [\n",
    "    'Areas, nes',\n",
    "    'Bonaire',\n",
    "    'Br. Antarctic Terr.',\n",
    "    'Bunkers',\n",
    "    'Free Zones',\n",
    "    'LAIA, nes',\n",
    "    'Neth. Antilles',\n",
    "    'Neutral Zone',\n",
    "    'North America and Central America, nes',\n",
    "    'Oceania, nes',\n",
    "    'Other Africa, nes',\n",
    "    'Other Asia, nes',\n",
    "    'Other Europe, nes',\n",
    "    'Rest of America, nes',\n",
    "    'Serbia and Montenegro',\n",
    "    'Special Categories',\n",
    "    'US Misc. Pacific Isds'\n",
    "]\n",
    "\n",
    "trade_df = trade_df.loc[~trade_df['Partner'].isin(drop_list)]\n",
    "\n",
    "trade_df['Reporter_std'] = cc_pd.pandas_convert(series=trade_df['Reporter'], to='name_short')   \n",
    "trade_df['Partner_std'] = cc_pd.pandas_convert(series=trade_df['Partner'], to='name_short')\n",
    "\n",
    "assert len(trade_df)==len(trade_df.drop_duplicates(subset=['Year','Reporter_std','Partner_std']))"
   ]
  },
  {
   "attachments": {},
   "cell_type": "markdown",
   "metadata": {},
   "source": [
    "Here, we finally get to do the merge and line up all the data for analysis. There are some instances in which Comtrade has data for exports between two countries, but not imports. These are dropposed because we are interested in total trade. And of course we're dropping all trade observations for which we don't have trade agreements to analyze since the question at hand concerns the institutional effect of agreements."
   ]
  },
  {
   "cell_type": "code",
   "execution_count": 9,
   "metadata": {},
   "outputs": [],
   "source": [
    "bt = pd.merge(trade_df, rta_df, how='left', left_on = ['Reporter_std','Partner_std'], right_on=['Signatory1_std','Signatory2_std'])\n",
    "assert len(bt) == len(trade_df)\n",
    "bt = bt.loc[bt['Agreement Year'].notna()]\n",
    "bt = bt.loc[(bt['Export'].notna()) & (bt['Import'].notna())]\n",
    "bt = bt.loc[(bt['World Exports'].notna()) & (bt['World Imports'].notna())]\n",
    "\n",
    "\n",
    "bt['Total Partner Trade'] = bt['Export'] + bt['Import']\n",
    "bt['Total World Trade'] = bt['World Exports'] + bt['World Imports']\n",
    "\n",
    "bt = bt.rename(columns={'RTA Name':'RTA_Name'})\n",
    "bt['Agreement_Index'] = bt['Year'] - bt['Agreement Year']\n",
    "bt['key'] = bt['Reporter_std'].str.cat(bt['Partner_std'], sep='-')\n",
    "\n",
    "assert len(bt) == len(bt.drop_duplicates(subset=['Year','Reporter_std','Partner_std']))"
   ]
  },
  {
   "attachments": {},
   "cell_type": "markdown",
   "metadata": {},
   "source": [
    "We'll also go ahead and merge GDP data from the World Bank with the trade data. This is really easy thanks to the [wbdata](https://pypi.org/project/wbdata/) package. We're using nominal GDP here because the trade data are also in nominal terms, so it should even out, at least roughly. Adjusting for inflation would require distinct deflators for each country, and that's a bit complex for the scale of this project."
   ]
  },
  {
   "cell_type": "code",
   "execution_count": 10,
   "metadata": {},
   "outputs": [
    {
     "name": "stderr",
     "output_type": "stream",
     "text": [
      "WARNING:country_converter.country_converter:Africa Eastern and Southern not found in regex\n",
      "WARNING:country_converter.country_converter:Africa Western and Central not found in regex\n",
      "WARNING:country_converter.country_converter:Arab World not found in regex\n",
      "WARNING:country_converter.country_converter:Caribbean small states not found in regex\n",
      "WARNING:country_converter.country_converter:Central Europe and the Baltics not found in regex\n",
      "WARNING:country_converter.country_converter:Early-demographic dividend not found in regex\n",
      "WARNING:country_converter.country_converter:East Asia & Pacific not found in regex\n",
      "WARNING:country_converter.country_converter:East Asia & Pacific ( not found in regex\n",
      "WARNING:country_converter.country_converter:East Asia & Pacific (IDA & IBRD countries) not found in regex\n",
      "WARNING:country_converter.country_converter:Euro area not found in regex\n",
      "WARNING:country_converter.country_converter:Europe & Central Asia not found in regex\n",
      "WARNING:country_converter.country_converter:Europe & Central Asia ( not found in regex\n",
      "WARNING:country_converter.country_converter:Europe & Central Asia (IDA & IBRD countries) not found in regex\n",
      "WARNING:country_converter.country_converter:European Union not found in regex\n",
      "WARNING:country_converter.country_converter:Fragile and conflict affected situations not found in regex\n",
      "WARNING:country_converter.country_converter:Heavily indebted poor countries (HIPC) not found in regex\n",
      "WARNING:country_converter.country_converter:High income not found in regex\n",
      "WARNING:country_converter.country_converter:IBRD only not found in regex\n",
      "WARNING:country_converter.country_converter:IDA & IBRD total not found in regex\n",
      "WARNING:country_converter.country_converter:IDA blend not found in regex\n",
      "WARNING:country_converter.country_converter:IDA only not found in regex\n",
      "WARNING:country_converter.country_converter:IDA total not found in regex\n",
      "WARNING:country_converter.country_converter:Late-demographic dividend not found in regex\n",
      "WARNING:country_converter.country_converter:Latin America & Caribbean not found in regex\n",
      "WARNING:country_converter.country_converter:Latin America & Caribbean ( not found in regex\n",
      "WARNING:country_converter.country_converter:Latin America & the Caribbean (IDA & IBRD countries) not found in regex\n",
      "WARNING:country_converter.country_converter:Least developed countries: UN classification not found in regex\n",
      "WARNING:country_converter.country_converter:Low & middle income not found in regex\n",
      "WARNING:country_converter.country_converter:Low income not found in regex\n",
      "WARNING:country_converter.country_converter:Lower middle income not found in regex\n",
      "WARNING:country_converter.country_converter:Middle East & North Africa not found in regex\n",
      "WARNING:country_converter.country_converter:Middle East & North Africa ( not found in regex\n",
      "WARNING:country_converter.country_converter:Middle East & North Africa (IDA & IBRD countries) not found in regex\n",
      "WARNING:country_converter.country_converter:Middle income not found in regex\n",
      "WARNING:country_converter.country_converter:North America not found in regex\n",
      "WARNING:country_converter.country_converter:Not classified not found in regex\n",
      "WARNING:country_converter.country_converter:OECD members not found in regex\n",
      "WARNING:country_converter.country_converter:Other small states not found in regex\n",
      "WARNING:country_converter.country_converter:Pacific island small states not found in regex\n",
      "WARNING:country_converter.country_converter:Post-demographic dividend not found in regex\n",
      "WARNING:country_converter.country_converter:Pre-demographic dividend not found in regex\n",
      "WARNING:country_converter.country_converter:Small states not found in regex\n",
      "WARNING:country_converter.country_converter:South Asia not found in regex\n",
      "WARNING:country_converter.country_converter:South Asia (IDA & IBRD) not found in regex\n",
      "WARNING:country_converter.country_converter:Sub-Saharan Africa not found in regex\n",
      "WARNING:country_converter.country_converter:Sub-Saharan Africa ( not found in regex\n",
      "WARNING:country_converter.country_converter:Sub-Saharan Africa (IDA & IBRD countries) not found in regex\n",
      "WARNING:country_converter.country_converter:Upper middle income not found in regex\n",
      "WARNING:country_converter.country_converter:World not found in regex\n",
      "WARNING:country_converter.country_converter:Channel Islands not found in regex\n"
     ]
    }
   ],
   "source": [
    "start = datetime.datetime(2000, 1, 1)\n",
    "end = datetime.datetime(2019, 1, 1)\n",
    "dates = [start, end]\n",
    "gdp = wbdata.get_dataframe({\"NY.GDP.MKTP.CD\":\"GDP\"},data_date=dates, freq='Y').reset_index()\n",
    "gdp['date'] = gdp['date'].astype(int)\n",
    "gdp['country_std'] = cc_pd.pandas_convert(series=gdp['country'], to='name_short')\n",
    "\n",
    "old_bt_len = len(bt)\n",
    "bt = pd.merge(bt, gdp, how='left', left_on=['Reporter_std','Year'], right_on = ['country_std','date'])\n",
    "bt['key_un'] = bt['Reporter'].str.cat(bt['Partner'], sep='-')\n",
    "bt.to_csv(outpath+'bt_202303.csv', index=False)\n",
    "assert len(bt) == old_bt_len"
   ]
  },
  {
   "attachments": {},
   "cell_type": "markdown",
   "metadata": {},
   "source": [
    "### D. Analysis\n",
    "\n",
    "Setting up a couple functions for analysis here. In all of these the Agreement Index is very important. This is simply the year for the trade data minus the year of the relevant trade agreement. So for a trade agreement signed in 2010, 2005 would be index year -5, 2010 would be 0, and 2014 would be index year 4.\n",
    "- ```window_n``` takes an integer to serve as observation window around initiation of the trade agreement, and returns a dataframe containing only trade relationships for which data are available across _all years_ in the given window.\n",
    "- ```pre_post_rates``` calculates the growth rates of a given variable within the pre (e.g. -5 through -1) and post (e.g. 0 through 4) periods, as well as from the first period through the last one (e.g. -5 through 4).\n",
    "- ```avg_growth_rates``` averages annual growth rates across all bilateral relationships in the input data.\n",
    "- ```index_trend``` indexes a series' volume to its value in the earliest period"
   ]
  },
  {
   "cell_type": "code",
   "execution_count": 11,
   "metadata": {},
   "outputs": [],
   "source": [
    "def window_n(years: int) -> pd.DataFrame:\n",
    "    pool = pd.DataFrame(bt['key'].unique(), columns=['key'])\n",
    "\n",
    "    for i in range(years*(-1),years):\n",
    "        avail = bt.loc[bt['Agreement_Index'] == i].filter(['key'], axis=1)\n",
    "        pool = pd.merge(pool,avail, how='inner', on='key')\n",
    "\n",
    "    print('Trade relationships available with '+str(years)+' year(s) pre and post agreement: '+str(len(pool)))\n",
    "    units = pool['key'].tolist()\n",
    "    df = bt[bt['key'].isin(units)]\n",
    "\n",
    "    df = df.loc[df['Agreement_Index']>=(years*(-1))]\n",
    "    df = df.loc[df['Agreement_Index']<years]\n",
    "\n",
    "    return df\n",
    "\n",
    "\n",
    "def pre_post_rates(in_df: pd.DataFrame, var: str, window: int) -> pd.DataFrame:\n",
    "    '''Growth rates within the pre- and post-agreement periods and across the full window.'''\n",
    "    align = {\n",
    "        -1*window:f'{var}_pre_start',\n",
    "        -1:f'{var}_pre_end',\n",
    "        0:f'{var}_post_start',\n",
    "        window-1:f'{var}_post_end'\n",
    "    }\n",
    "\n",
    "    df = in_df.loc[in_df['Agreement_Index'].isin(align.keys())].copy()\n",
    "    df['Sub_period'] = df['Agreement_Index'].map(align)\n",
    "    df = df.pivot_table(index=['key','Reporter_std','Partner_std'], columns='Sub_period', values=var).reset_index()\n",
    "    df[f'{var} Intra-Pre Period % Change'] = df[f'{var}_pre_end']/df[f'{var}_pre_start'] - 1\n",
    "    df[f'{var} Intra-Post Period % Change'] = df[f'{var}_post_end']/df[f'{var}_post_start'] - 1\n",
    "    df[f'{var} Full Window % Change'] = df[f'{var}_post_end']/df[f'{var}_pre_start'] - 1\n",
    "    return df\n",
    "\n",
    "\n",
    "def avg_growth_rates(in_df: pd.DataFrame, var: str) -> pd.DataFrame:\n",
    "    '''Returns'''\n",
    "    df = in_df.sort_values(['Reporter_std','Partner_std','Year'])\n",
    "    df[f'{var} Annual Growth Rate'] = df.groupby('key')[['Total Partner Trade']].diff().fillna(0)/df.groupby('key')[['Total Partner Trade']].shift(1)\n",
    "    return df.groupby('Agreement_Index')[[f'{var} Annual Growth Rate']].mean().reset_index()\n",
    "\n",
    "\n",
    "def index_trend(in_df: pd.DataFrame, var:str, index_loc = -99) -> pd.DataFrame:\n",
    "    df = in_df.sort_values(['Reporter_std','Partner_std','Year'])\n",
    "    if index_loc < df['Agreement_Index'].min():\n",
    "        index_loc = df['Agreement_Index'].min()\n",
    "    tmp = df.loc[df['Agreement_Index']==index_loc]\n",
    "    tmp = tmp.filter(['key',var], axis=1).rename(columns={var:'index_base'})\n",
    "    df = pd.merge(df,tmp, how='left',on='key')\n",
    "    df[f'{var} Relative to Year {index_loc}'] = df[var]/df['index_base']\n",
    "    out = df.groupby('Agreement_Index')[[f'{var} Relative to Year {index_loc}']].mean().reset_index()\n",
    "    out = out.loc[out['Agreement_Index'] != out['Agreement_Index'].min()]\n",
    "    return out\n",
    "\n",
    "\n",
    "def standardized_trend(in_df: pd.DataFrame, vars: list, base_year: int, label: str):\n",
    "    renames = {i:f'{i}_base' for i in vars}\n",
    "    base_df = in_df.loc[in_df['Agreement_Index']==base_year].rename(columns=renames).filter(['key']+list(renames.values()))\n",
    "    tmp = pd.merge(in_df, base_df, how='left', on='key')\n",
    "    for var in vars:\n",
    "        tmp[f'{var}_std'] = tmp[var]/tmp[f'{var}_base']*100\n",
    "    tmp = tmp.groupby('Agreement_Index')[[f'{var}_std' for var in vars]].mean()\n",
    "    # tmp[[f'{var}_std' for var in vars]].plot()\n",
    "    plt.plot(tmp[[f'{var}_std' for var in vars]])\n",
    "    plt.axvspan(0, base_year*-1, facecolor='grey', alpha=0.5)\n",
    "    plt.legend([i for i in vars])\n",
    "    plt.xlabel('Years since Bilateral Trade Agreement')\n",
    "    plt.ylabel(f'Relative to Year {base_year} (100)')\n",
    "    plt.xlim([base_year, base_year*-1])\n",
    "    plt.savefig(f'{outpath}/{label}.png', dpi=600)\n",
    "    plt.show()\n",
    "    plt.close()"
   ]
  },
  {
   "attachments": {},
   "cell_type": "markdown",
   "metadata": {},
   "source": [
    "I could batch these and get all possible output for all combinations of variables considered, but I think it's easier to follow if just going step by step through the tables I originally used in the paper. I can think of lots of other comparisons I'd like to see now too, but sticking with original for now."
   ]
  },
  {
   "cell_type": "code",
   "execution_count": 12,
   "metadata": {},
   "outputs": [
    {
     "name": "stdout",
     "output_type": "stream",
     "text": [
      "Trade relationships available with 2 year(s) pre and post agreement: 277\n",
      "Trade relationships available with 3 year(s) pre and post agreement: 254\n",
      "Trade relationships available with 4 year(s) pre and post agreement: 218\n",
      "Trade relationships available with 5 year(s) pre and post agreement: 180\n",
      "Trade relationships available with 6 year(s) pre and post agreement: 142\n"
     ]
    }
   ],
   "source": [
    "counts = pd.DataFrame(columns=['key','Reporter_std','Partner_std'])\n",
    "\n",
    "for i in range(2,7):\n",
    "    df = window_n(i)\n",
    "    tmp_w = pd.DataFrame(columns=['key','Reporter_std','Partner_std'])\n",
    "    for measure in ['Total Partner Trade','Total World Trade','GDP']:\n",
    "        tmp_m = pre_post_rates(df, var = measure, window=i)\n",
    "        tmp_w = pd.merge(tmp_w, tmp_m, how='outer',on=['key','Reporter_std','Partner_std'])\n",
    "    tmp_w['window'] = f'+/-{i} years'\n",
    "    counts = pd.concat([counts, tmp_w])\n",
    "\n",
    "\n",
    "counts.loc[counts['Total Partner Trade Full Window % Change'] > counts['Total World Trade Full Window % Change'], 'Partner Trade v. World Trade'] = 'Partner % Change > World'\n",
    "counts.loc[counts['Total Partner Trade Full Window % Change'] < counts['Total World Trade Full Window % Change'], 'Partner Trade v. World Trade'] = 'Partner % Change < World'\n",
    "\n",
    "counts.loc[counts['Total Partner Trade Full Window % Change'] > counts['GDP Full Window % Change'], 'Partner Trade v. GDP'] = 'Partner % Change > GDP'\n",
    "counts.loc[counts['Total Partner Trade Full Window % Change'] < counts['GDP Full Window % Change'], 'Partner Trade v. GDP'] = 'Partner % Change < GDP'\n",
    "\n",
    "counts.loc[counts['Total Partner Trade Intra-Pre Period % Change'] > counts['Total Partner Trade Intra-Post Period % Change'], 'Partner Trade Pre v. Partner Trade Post'] = 'Partner % Change Pre > Partner % Change Post'\n",
    "counts.loc[counts['Total Partner Trade Intra-Pre Period % Change'] < counts['Total Partner Trade Intra-Post Period % Change'], 'Partner Trade Pre v. Partner Trade Post'] = 'Partner % Change Pre < Partner % Change Post'"
   ]
  },
  {
   "cell_type": "code",
   "execution_count": 13,
   "metadata": {},
   "outputs": [
    {
     "data": {
      "text/html": [
       "<div>\n",
       "<style scoped>\n",
       "    .dataframe tbody tr th:only-of-type {\n",
       "        vertical-align: middle;\n",
       "    }\n",
       "\n",
       "    .dataframe tbody tr th {\n",
       "        vertical-align: top;\n",
       "    }\n",
       "\n",
       "    .dataframe thead th {\n",
       "        text-align: right;\n",
       "    }\n",
       "</style>\n",
       "<table border=\"1\" class=\"dataframe\">\n",
       "  <thead>\n",
       "    <tr style=\"text-align: right;\">\n",
       "      <th></th>\n",
       "      <th>window</th>\n",
       "      <th>N</th>\n",
       "      <th>Partner % Change &lt; World</th>\n",
       "      <th>Partner % Change &gt; World</th>\n",
       "      <th>%ΔTP &gt; %ΔWT</th>\n",
       "    </tr>\n",
       "  </thead>\n",
       "  <tbody>\n",
       "    <tr>\n",
       "      <th>0</th>\n",
       "      <td>+/-2 years</td>\n",
       "      <td>277</td>\n",
       "      <td>113</td>\n",
       "      <td>164</td>\n",
       "      <td>59.2%</td>\n",
       "    </tr>\n",
       "    <tr>\n",
       "      <th>1</th>\n",
       "      <td>+/-3 years</td>\n",
       "      <td>254</td>\n",
       "      <td>84</td>\n",
       "      <td>170</td>\n",
       "      <td>66.9%</td>\n",
       "    </tr>\n",
       "    <tr>\n",
       "      <th>2</th>\n",
       "      <td>+/-4 years</td>\n",
       "      <td>218</td>\n",
       "      <td>68</td>\n",
       "      <td>150</td>\n",
       "      <td>68.8%</td>\n",
       "    </tr>\n",
       "    <tr>\n",
       "      <th>3</th>\n",
       "      <td>+/-5 years</td>\n",
       "      <td>180</td>\n",
       "      <td>56</td>\n",
       "      <td>124</td>\n",
       "      <td>68.9%</td>\n",
       "    </tr>\n",
       "    <tr>\n",
       "      <th>4</th>\n",
       "      <td>+/-6 years</td>\n",
       "      <td>142</td>\n",
       "      <td>45</td>\n",
       "      <td>97</td>\n",
       "      <td>68.3%</td>\n",
       "    </tr>\n",
       "  </tbody>\n",
       "</table>\n",
       "</div>"
      ],
      "text/plain": [
       "       window    N  Partner % Change < World  Partner % Change > World  \\\n",
       "0  +/-2 years  277                       113                       164   \n",
       "1  +/-3 years  254                        84                       170   \n",
       "2  +/-4 years  218                        68                       150   \n",
       "3  +/-5 years  180                        56                       124   \n",
       "4  +/-6 years  142                        45                        97   \n",
       "\n",
       "  %ΔTP > %ΔWT  \n",
       "0       59.2%  \n",
       "1       66.9%  \n",
       "2       68.8%  \n",
       "3       68.9%  \n",
       "4       68.3%  "
      ]
     },
     "execution_count": 13,
     "metadata": {},
     "output_type": "execute_result"
    }
   ],
   "source": [
    "def fmt_output(analysis_var: str, numerator: str, pct_label: str) -> pd.DataFrame:\n",
    "    out = counts.groupby(['window',analysis_var]).size().reset_index(name='Count')\n",
    "    totals = out.groupby('window')[['Count']].sum().rename(columns={'Count':'N'})\n",
    "    out = out.pivot_table(index='window', columns=analysis_var, values='Count')\n",
    "    out = pd.merge(out, totals, how='left', on='window').reset_index()\n",
    "    out[pct_label] = (out[numerator]/out['N']).astype(float).map(\"{:.1%}\".format)\n",
    "    # out.style.format({pct_label: '{:,.2%}'.format})\n",
    "    cols = ['window','N']+[i for i in out.columns if i not in ['window','N']]\n",
    "    out = out[cols]\n",
    "    return out\n",
    "\n",
    "table1 = fmt_output('Partner Trade v. World Trade', numerator='Partner % Change > World', pct_label='%\\u0394TP > %\\u0394WT')\n",
    "table1.to_csv(outpath+'table1.csv', index=False)\n",
    "table1"
   ]
  },
  {
   "cell_type": "code",
   "execution_count": 14,
   "metadata": {},
   "outputs": [
    {
     "name": "stdout",
     "output_type": "stream",
     "text": [
      "Trade relationships available with 6 year(s) pre and post agreement: 142\n"
     ]
    },
    {
     "data": {
      "image/png": "[encoded data removed]",
      "text/plain": [
       "<Figure size 640x480 with 1 Axes>"
      ]
     },
     "metadata": {},
     "output_type": "display_data"
    }
   ],
   "source": [
    "figure1 = standardized_trend(in_df=window_n(6), vars=['Total Partner Trade','Total World Trade'], base_year=-6, label='figure1')"
   ]
  },
  {
   "cell_type": "code",
   "execution_count": 15,
   "metadata": {},
   "outputs": [
    {
     "data": {
      "text/html": [
       "<div>\n",
       "<style scoped>\n",
       "    .dataframe tbody tr th:only-of-type {\n",
       "        vertical-align: middle;\n",
       "    }\n",
       "\n",
       "    .dataframe tbody tr th {\n",
       "        vertical-align: top;\n",
       "    }\n",
       "\n",
       "    .dataframe thead th {\n",
       "        text-align: right;\n",
       "    }\n",
       "</style>\n",
       "<table border=\"1\" class=\"dataframe\">\n",
       "  <thead>\n",
       "    <tr style=\"text-align: right;\">\n",
       "      <th></th>\n",
       "      <th>window</th>\n",
       "      <th>N</th>\n",
       "      <th>Partner % Change &lt; GDP</th>\n",
       "      <th>Partner % Change &gt; GDP</th>\n",
       "      <th>%ΔTP &gt; %ΔGDP</th>\n",
       "    </tr>\n",
       "  </thead>\n",
       "  <tbody>\n",
       "    <tr>\n",
       "      <th>0</th>\n",
       "      <td>+/-2 years</td>\n",
       "      <td>277</td>\n",
       "      <td>114</td>\n",
       "      <td>163</td>\n",
       "      <td>58.8%</td>\n",
       "    </tr>\n",
       "    <tr>\n",
       "      <th>1</th>\n",
       "      <td>+/-3 years</td>\n",
       "      <td>254</td>\n",
       "      <td>92</td>\n",
       "      <td>162</td>\n",
       "      <td>63.8%</td>\n",
       "    </tr>\n",
       "    <tr>\n",
       "      <th>2</th>\n",
       "      <td>+/-4 years</td>\n",
       "      <td>218</td>\n",
       "      <td>80</td>\n",
       "      <td>138</td>\n",
       "      <td>63.3%</td>\n",
       "    </tr>\n",
       "    <tr>\n",
       "      <th>3</th>\n",
       "      <td>+/-5 years</td>\n",
       "      <td>180</td>\n",
       "      <td>68</td>\n",
       "      <td>112</td>\n",
       "      <td>62.2%</td>\n",
       "    </tr>\n",
       "    <tr>\n",
       "      <th>4</th>\n",
       "      <td>+/-6 years</td>\n",
       "      <td>142</td>\n",
       "      <td>51</td>\n",
       "      <td>91</td>\n",
       "      <td>64.1%</td>\n",
       "    </tr>\n",
       "  </tbody>\n",
       "</table>\n",
       "</div>"
      ],
      "text/plain": [
       "       window    N  Partner % Change < GDP  Partner % Change > GDP  \\\n",
       "0  +/-2 years  277                     114                     163   \n",
       "1  +/-3 years  254                      92                     162   \n",
       "2  +/-4 years  218                      80                     138   \n",
       "3  +/-5 years  180                      68                     112   \n",
       "4  +/-6 years  142                      51                      91   \n",
       "\n",
       "  %ΔTP > %ΔGDP  \n",
       "0        58.8%  \n",
       "1        63.8%  \n",
       "2        63.3%  \n",
       "3        62.2%  \n",
       "4        64.1%  "
      ]
     },
     "execution_count": 15,
     "metadata": {},
     "output_type": "execute_result"
    }
   ],
   "source": [
    "table2 = fmt_output('Partner Trade v. GDP', numerator='Partner % Change > GDP', pct_label='%\\u0394TP > %\\u0394GDP')\n",
    "table2.to_csv(outpath+'table2.csv', index=False)\n",
    "table2"
   ]
  },
  {
   "cell_type": "code",
   "execution_count": 16,
   "metadata": {},
   "outputs": [
    {
     "name": "stdout",
     "output_type": "stream",
     "text": [
      "Trade relationships available with 6 year(s) pre and post agreement: 142\n"
     ]
    },
    {
     "data": {
      "image/png": "[encoded data removed]",
      "text/plain": [
       "<Figure size 640x480 with 1 Axes>"
      ]
     },
     "metadata": {},
     "output_type": "display_data"
    }
   ],
   "source": [
    "figure2 = standardized_trend(in_df=window_n(6), vars=['Total Partner Trade','Total World Trade','GDP'], base_year=-6, label='figure2')"
   ]
  },
  {
   "cell_type": "code",
   "execution_count": 17,
   "metadata": {},
   "outputs": [
    {
     "data": {
      "text/html": [
       "<div>\n",
       "<style scoped>\n",
       "    .dataframe tbody tr th:only-of-type {\n",
       "        vertical-align: middle;\n",
       "    }\n",
       "\n",
       "    .dataframe tbody tr th {\n",
       "        vertical-align: top;\n",
       "    }\n",
       "\n",
       "    .dataframe thead th {\n",
       "        text-align: right;\n",
       "    }\n",
       "</style>\n",
       "<table border=\"1\" class=\"dataframe\">\n",
       "  <thead>\n",
       "    <tr style=\"text-align: right;\">\n",
       "      <th></th>\n",
       "      <th>window</th>\n",
       "      <th>N</th>\n",
       "      <th>Partner % Change Pre &lt; Partner % Change Post</th>\n",
       "      <th>Partner % Change Pre &gt; Partner % Change Post</th>\n",
       "      <th>%ΔTP Pre &lt; %ΔTP Post</th>\n",
       "    </tr>\n",
       "  </thead>\n",
       "  <tbody>\n",
       "    <tr>\n",
       "      <th>0</th>\n",
       "      <td>+/-2 years</td>\n",
       "      <td>277</td>\n",
       "      <td>139</td>\n",
       "      <td>138</td>\n",
       "      <td>50.2%</td>\n",
       "    </tr>\n",
       "    <tr>\n",
       "      <th>1</th>\n",
       "      <td>+/-3 years</td>\n",
       "      <td>254</td>\n",
       "      <td>130</td>\n",
       "      <td>124</td>\n",
       "      <td>51.2%</td>\n",
       "    </tr>\n",
       "    <tr>\n",
       "      <th>2</th>\n",
       "      <td>+/-4 years</td>\n",
       "      <td>218</td>\n",
       "      <td>88</td>\n",
       "      <td>130</td>\n",
       "      <td>40.4%</td>\n",
       "    </tr>\n",
       "    <tr>\n",
       "      <th>3</th>\n",
       "      <td>+/-5 years</td>\n",
       "      <td>180</td>\n",
       "      <td>48</td>\n",
       "      <td>132</td>\n",
       "      <td>26.7%</td>\n",
       "    </tr>\n",
       "    <tr>\n",
       "      <th>4</th>\n",
       "      <td>+/-6 years</td>\n",
       "      <td>142</td>\n",
       "      <td>30</td>\n",
       "      <td>112</td>\n",
       "      <td>21.1%</td>\n",
       "    </tr>\n",
       "  </tbody>\n",
       "</table>\n",
       "</div>"
      ],
      "text/plain": [
       "       window    N  Partner % Change Pre < Partner % Change Post  \\\n",
       "0  +/-2 years  277                                           139   \n",
       "1  +/-3 years  254                                           130   \n",
       "2  +/-4 years  218                                            88   \n",
       "3  +/-5 years  180                                            48   \n",
       "4  +/-6 years  142                                            30   \n",
       "\n",
       "   Partner % Change Pre > Partner % Change Post %ΔTP Pre < %ΔTP Post  \n",
       "0                                           138                50.2%  \n",
       "1                                           124                51.2%  \n",
       "2                                           130                40.4%  \n",
       "3                                           132                26.7%  \n",
       "4                                           112                21.1%  "
      ]
     },
     "execution_count": 17,
     "metadata": {},
     "output_type": "execute_result"
    }
   ],
   "source": [
    "table3 = fmt_output('Partner Trade Pre v. Partner Trade Post', numerator='Partner % Change Pre < Partner % Change Post', pct_label='%\\u0394TP Pre < %\\u0394TP Post')\n",
    "table3.to_csv(outpath+'table3.csv', index=False)\n",
    "table3"
   ]
  },
  {
   "cell_type": "code",
   "execution_count": 18,
   "metadata": {},
   "outputs": [
    {
     "name": "stdout",
     "output_type": "stream",
     "text": [
      "Trade relationships available with 6 year(s) pre and post agreement: 142\n"
     ]
    },
    {
     "data": {
      "image/png": "[encoded data removed]",
      "text/plain": [
       "<Figure size 640x480 with 1 Axes>"
      ]
     },
     "metadata": {},
     "output_type": "display_data"
    }
   ],
   "source": [
    "figure3_df = avg_growth_rates(in_df=window_n(6), var='Total Partner Trade')\n",
    "figure3_df\n",
    "plt.plot(figure3_df['Total Partner Trade Annual Growth Rate'])\n",
    "# plt.legend([i for i in vars])\n",
    "plt.xlabel('Years since Bilateral Trade Agreement')\n",
    "plt.ylabel(f'Avg. % Change in Trade with Bilateral Partner')\n",
    "plt.xticks(range(len(figure3_df['Agreement_Index'])),figure3_df['Agreement_Index'].astype(int))\n",
    "plt.axvspan(6, 11, facecolor='grey', alpha=0.5)\n",
    "plt.gca().yaxis.set_major_formatter(mtick.PercentFormatter(xmax=1.0))\n",
    "plt.ylim([0, .5])\n",
    "plt.savefig(f'{outpath}/figure3.png', dpi=600)\n",
    "plt.show()\n",
    "plt.close()"
   ]
  },
  {
   "attachments": {},
   "cell_type": "markdown",
   "metadata": {},
   "source": [
    "##### List of qualifications:\n",
    "- Some agreements pertain to only certain sorts of goods, so looking at goods trade in aggregate elides some complexity.\n",
    "- Simple comparisons of bilateral trade with overall trade don't capture effects of _other_ trade agreements on overall trade.\n",
    "- Multilateral trade agreements are entirely ignored here."
   ]
  }
 ],
 "metadata": {
  "kernelspec": {
   "display_name": "base",
   "language": "python",
   "name": "python3"
  },
  "language_info": {
   "codemirror_mode": {
    "name": "ipython",
    "version": 3
   },
   "file_extension": ".py",
   "mimetype": "text/x-python",
   "name": "python",
   "nbconvert_exporter": "python",
   "pygments_lexer": "ipython3",
   "version": "3.9.7"
  },
  "orig_nbformat": 4,
  "vscode": {
   "interpreter": {
    "hash": "98577926d758d6df42b426821770f5e42b06e7801e9facce7b3b7f890389b385"
   }
  }
 },
 "nbformat": 4,
 "nbformat_minor": 2
}
